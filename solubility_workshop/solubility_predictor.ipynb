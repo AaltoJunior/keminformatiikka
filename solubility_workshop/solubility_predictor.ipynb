{
 "cells": [
  {
   "cell_type": "code",
   "execution_count": null,
   "metadata": {},
   "outputs": [],
   "source": [
    "model = load_model(\"WaterSoulubility_03_01_2024_model\")"
   ]
  },
  {
   "cell_type": "code",
   "execution_count": null,
   "metadata": {},
   "outputs": [],
   "source": [
    "from chem_util import descriptors_from_smiles\n",
    "smiles = [\n",
    "  \"C1CCCCC1\",\n",
    "  \"CC(C)Cc1ccc(cc1)C(C)C(=O)O\", # ibuprofen\n",
    "]\n",
    "x = descriptors_from_smiles(smiles)\n",
    "x"
   ]
  },
  {
   "cell_type": "code",
   "execution_count": null,
   "metadata": {},
   "outputs": [],
   "source": [
    "model.predict(x)"
   ]
  }
 ],
 "metadata": {
  "language_info": {
   "name": "python"
  }
 },
 "nbformat": 4,
 "nbformat_minor": 2
}
